{
 "cells": [
  {
   "cell_type": "markdown",
   "id": "742c389d",
   "metadata": {},
   "source": [
    "# Question 1"
   ]
  },
  {
   "cell_type": "code",
   "execution_count": 1,
   "id": "b98c5a8f",
   "metadata": {},
   "outputs": [
    {
     "name": "stdout",
     "output_type": "stream",
     "text": [
      "ou...ou...outstanding?\n"
     ]
    }
   ],
   "source": [
    "def shutter(word):\n",
    "    s = word[:2]\n",
    "    return (2*(s+'...')) + word + '?'\n",
    "\n",
    "print(shutter(\"outstanding\"))"
   ]
  },
  {
   "cell_type": "markdown",
   "id": "3db9c656",
   "metadata": {},
   "source": [
    "# Question 2"
   ]
  },
  {
   "cell_type": "code",
   "execution_count": 2,
   "id": "ac46e9a3",
   "metadata": {},
   "outputs": [
    {
     "name": "stdout",
     "output_type": "stream",
     "text": [
      "286.4791395439889\n"
     ]
    }
   ],
   "source": [
    "def convert(radian):\n",
    "    pi = 3.14159\n",
    "    degree = radian*(180/pi)\n",
    "    return degree\n",
    "radian = 5\n",
    "print(convert(radian))"
   ]
  },
  {
   "cell_type": "markdown",
   "id": "7a9490c8",
   "metadata": {},
   "source": [
    "# Question 3"
   ]
  },
  {
   "cell_type": "code",
   "execution_count": 4,
   "id": "3be0326e",
   "metadata": {},
   "outputs": [
    {
     "name": "stdout",
     "output_type": "stream",
     "text": [
      "Yes\n",
      "None\n"
     ]
    }
   ],
   "source": [
    "def curzon(n):\n",
    "    power_term,product_term = 0,0\n",
    "    power_term = pow(2,n)+1\n",
    "    product_term = 2*n+1\n",
    "    if (power_term%product_term == 0):\n",
    "        print(\"Yes\")\n",
    "    else:\n",
    "        print(\"No\")\n",
    "\n",
    "if __name__ == '__main__':\n",
    "    n = 5\n",
    "    print(curzon(n))"
   ]
  },
  {
   "cell_type": "markdown",
   "id": "a822ee7a",
   "metadata": {},
   "source": [
    "# Question 4"
   ]
  },
  {
   "cell_type": "code",
   "execution_count": 5,
   "id": "e94033dc",
   "metadata": {},
   "outputs": [
    {
     "name": "stdout",
     "output_type": "stream",
     "text": [
      "2.598076211353316\n"
     ]
    }
   ],
   "source": [
    "import math\n",
    "def area(s):\n",
    "    res = (3*math.sqrt(3)*s*s)/2\n",
    "    return res\n",
    "print(area(1))"
   ]
  },
  {
   "cell_type": "markdown",
   "id": "9d8adfe2",
   "metadata": {},
   "source": [
    "# Question 5"
   ]
  },
  {
   "cell_type": "code",
   "execution_count": 7,
   "id": "2f0d1c3e",
   "metadata": {},
   "outputs": [
    {
     "name": "stdout",
     "output_type": "stream",
     "text": [
      "26\n"
     ]
    }
   ],
   "source": [
    "def convert(number,base):\n",
    "    temp = int(number,base)\n",
    "    print(temp)\n",
    "if __name__ == '__main__':\n",
    "    number = '1A'\n",
    "    base = 16\n",
    "    convert(number,base)"
   ]
  },
  {
   "cell_type": "code",
   "execution_count": null,
   "id": "bdffb3c2",
   "metadata": {},
   "outputs": [],
   "source": []
  }
 ],
 "metadata": {
  "kernelspec": {
   "display_name": "Python 3 (ipykernel)",
   "language": "python",
   "name": "python3"
  },
  "language_info": {
   "codemirror_mode": {
    "name": "ipython",
    "version": 3
   },
   "file_extension": ".py",
   "mimetype": "text/x-python",
   "name": "python",
   "nbconvert_exporter": "python",
   "pygments_lexer": "ipython3",
   "version": "3.7.13"
  }
 },
 "nbformat": 4,
 "nbformat_minor": 5
}
