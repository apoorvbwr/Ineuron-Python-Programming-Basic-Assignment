{
 "cells": [
  {
   "cell_type": "markdown",
   "id": "067176da",
   "metadata": {},
   "source": [
    "# Question 1"
   ]
  },
  {
   "cell_type": "code",
   "execution_count": 2,
   "id": "27b50fce",
   "metadata": {},
   "outputs": [
    {
     "name": "stdout",
     "output_type": "stream",
     "text": [
      "{'apo': [5, 6, 7, 8], 'sha': [10, 11, 7, 5], 'is': [6, 12, 10, 8], 'comm': [1, 2, 5]}\n",
      "[1, 2, 5, 5, 5, 6, 6, 7, 7, 8, 8, 10, 10, 11, 12]\n"
     ]
    }
   ],
   "source": [
    "test_dict = {'apo' : [5, 6, 7, 8],\n",
    "             'sha' : [10, 11, 7, 5],\n",
    "             'is' : [6, 12, 10, 8],\n",
    "             'comm' : [1, 2, 5]}\n",
    "print(test_dict)\n",
    "result = list(sorted([ele for val in test_dict.values() for ele in val]))\n",
    "print(result)"
   ]
  },
  {
   "cell_type": "markdown",
   "id": "413213a4",
   "metadata": {},
   "source": [
    "# Question 2"
   ]
  },
  {
   "cell_type": "code",
   "execution_count": 4,
   "id": "8b51337d",
   "metadata": {},
   "outputs": [
    {
     "name": "stdout",
     "output_type": "stream",
     "text": [
      "600\n"
     ]
    }
   ],
   "source": [
    "def return_sum(test_dict):\n",
    "    return sum(test_dict.values())\n",
    "test_dict = {'a': 100, 'b': 200, 'c': 300}\n",
    "print(return_sum(test_dict))"
   ]
  },
  {
   "cell_type": "markdown",
   "id": "d80d038f",
   "metadata": {},
   "source": [
    "# Question 3"
   ]
  },
  {
   "cell_type": "code",
   "execution_count": 5,
   "id": "4e2c4d64",
   "metadata": {},
   "outputs": [
    {
     "name": "stdout",
     "output_type": "stream",
     "text": [
      "{'d': 6, 'c': 4}\n"
     ]
    }
   ],
   "source": [
    "def Merge(dict1, dict2):\n",
    "    return(dict2.update(dict1))\n",
    "     \n",
    "\n",
    "dict1 = {'a': 10, 'b': 8}\n",
    "dict2 = {'d': 6, 'c': 4}\n",
    "print(dict2)"
   ]
  },
  {
   "cell_type": "markdown",
   "id": "bc97ad45",
   "metadata": {},
   "source": [
    "# Question 4"
   ]
  },
  {
   "cell_type": "code",
   "execution_count": 6,
   "id": "3b750876",
   "metadata": {},
   "outputs": [
    {
     "name": "stdout",
     "output_type": "stream",
     "text": [
      "The original dictionary is : {'month': [1, 2, 3], 'name': ['Jan', 'Feb', 'March']}\n",
      "Flattened dictionary : {1: 'Jan', 2: 'Feb', 3: 'March'}\n"
     ]
    }
   ],
   "source": [
    "from itertools import product\n",
    "test_dict = {'month' : [1, 2, 3],\n",
    "             'name' : ['Jan', 'Feb', 'March']}\n",
    "print(\"The original dictionary is : \" + str(test_dict))\n",
    "res = dict(zip(test_dict['month'], test_dict['name']))\n",
    "print(\"Flattened dictionary : \" + str(res))"
   ]
  },
  {
   "cell_type": "markdown",
   "id": "95833d83",
   "metadata": {},
   "source": [
    "# Question 5"
   ]
  },
  {
   "cell_type": "code",
   "execution_count": 7,
   "id": "74e0d5cf",
   "metadata": {},
   "outputs": [
    {
     "name": "stdout",
     "output_type": "stream",
     "text": [
      "Resultant Dictionary : OrderedDict([('manjeet', '3'), ('akshat', '1'), ('nikhil', '2')])\n"
     ]
    }
   ],
   "source": [
    "from collections import OrderedDict\n",
    "iniordered_dict = OrderedDict([('akshat', '1'), ('nikhil', '2')])\n",
    "iniordered_dict.update({'manjeet':'3'})\n",
    "iniordered_dict.move_to_end('manjeet', last = False)\n",
    "print (\"Resultant Dictionary : \"+str(iniordered_dict))"
   ]
  },
  {
   "cell_type": "markdown",
   "id": "4076726b",
   "metadata": {},
   "source": [
    "# Question 6"
   ]
  },
  {
   "cell_type": "code",
   "execution_count": 8,
   "id": "da448861",
   "metadata": {},
   "outputs": [
    {
     "name": "stdout",
     "output_type": "stream",
     "text": [
      "True\n"
     ]
    }
   ],
   "source": [
    "from collections import OrderedDict\n",
    "def check_order(input, pattern):\n",
    "    dict = OrderedDict.fromkeys(input)\n",
    "    ptrlen = 0\n",
    "    for key,value in dict.items():\n",
    "        if (key==pattern[ptrlen]):\n",
    "            ptrlen+=1\n",
    "        if ptrlen == len(pattern):\n",
    "            return \"True\"\n",
    "\n",
    "if __name__==\"__main__\":\n",
    "    input = \"engineers\"\n",
    "    pattern=\"egr\"\n",
    "    print(check_order(input,pattern))"
   ]
  },
  {
   "cell_type": "markdown",
   "id": "88e8e818",
   "metadata": {},
   "source": [
    "# Question 7"
   ]
  },
  {
   "cell_type": "code",
   "execution_count": 9,
   "id": "8842b012",
   "metadata": {},
   "outputs": [
    {
     "name": "stdout",
     "output_type": "stream",
     "text": [
      "black: #000000\n",
      "green: #008000\n",
      "red: #FF0000\n",
      "white: #FFFFFF\n"
     ]
    }
   ],
   "source": [
    "color_dict = {'red':'#FF0000',\n",
    "          'green':'#008000',\n",
    "          'black':'#000000',\n",
    "          'white':'#FFFFFF'}\n",
    "\n",
    "for key in sorted(color_dict):\n",
    "    print(\"%s: %s\" % (key, color_dict[key]))"
   ]
  },
  {
   "cell_type": "code",
   "execution_count": null,
   "id": "39214160",
   "metadata": {},
   "outputs": [],
   "source": []
  }
 ],
 "metadata": {
  "kernelspec": {
   "display_name": "Python 3",
   "language": "python",
   "name": "python3"
  },
  "language_info": {
   "codemirror_mode": {
    "name": "ipython",
    "version": 3
   },
   "file_extension": ".py",
   "mimetype": "text/x-python",
   "name": "python",
   "nbconvert_exporter": "python",
   "pygments_lexer": "ipython3",
   "version": "3.8.8"
  }
 },
 "nbformat": 4,
 "nbformat_minor": 5
}
