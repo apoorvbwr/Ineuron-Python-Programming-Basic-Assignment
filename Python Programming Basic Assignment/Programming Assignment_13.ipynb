{
 "cells": [
  {
   "cell_type": "markdown",
   "id": "25117cd9",
   "metadata": {},
   "source": [
    "# Question 1"
   ]
  },
  {
   "cell_type": "code",
   "execution_count": 2,
   "id": "cc46fbdc",
   "metadata": {},
   "outputs": [
    {
     "name": "stdout",
     "output_type": "stream",
     "text": [
      "5\n",
      "15.811388300841896\n"
     ]
    }
   ],
   "source": [
    "import math\n",
    "d = int(input())\n",
    "c = 50\n",
    "h = 30\n",
    "q = math.sqrt((2*c*d)/2)\n",
    "print(q)"
   ]
  },
  {
   "cell_type": "markdown",
   "id": "017f2c2e",
   "metadata": {},
   "source": [
    "# Question 2"
   ]
  },
  {
   "cell_type": "code",
   "execution_count": 3,
   "id": "ddfbd034",
   "metadata": {},
   "outputs": [
    {
     "name": "stdout",
     "output_type": "stream",
     "text": [
      "4\n",
      "5\n",
      "[0, 0, 0, 0, 0]\n",
      "[0, 1, 2, 3, 4]\n",
      "[0, 2, 4, 6, 8]\n",
      "[0, 3, 6, 9, 12]\n",
      "[[0, 0, 0, 0, 0], [0, 1, 2, 3, 4], [0, 2, 4, 6, 8], [0, 3, 6, 9, 12]]\n"
     ]
    }
   ],
   "source": [
    "rows = int(input())\n",
    "columns = int(input())\n",
    "\n",
    "grid = []\n",
    "for x in range(rows):\n",
    "    rows = []\n",
    "    for y in range(columns):\n",
    "        rows.append(x*y)\n",
    "    grid.append(rows)\n",
    "    print(rows)\n",
    "\n",
    "print(grid)"
   ]
  },
  {
   "cell_type": "code",
   "execution_count": 5,
   "id": "2520e935",
   "metadata": {},
   "outputs": [
    {
     "name": "stdout",
     "output_type": "stream",
     "text": [
      "4\n",
      "5\n",
      "[[0, 0, 0, 0, 0], [0, 1, 2, 3, 4], [0, 2, 4, 6, 8]]\n"
     ]
    }
   ],
   "source": [
    "X = int(input())\n",
    "Y = int(input())\n",
    "res = [[x*y for y in range(Y)] for x in range(x)]\n",
    "print(res)"
   ]
  },
  {
   "cell_type": "markdown",
   "id": "9ff5f5a0",
   "metadata": {},
   "source": [
    "# Question 3"
   ]
  },
  {
   "cell_type": "code",
   "execution_count": 25,
   "id": "e9b093f4",
   "metadata": {},
   "outputs": [
    {
     "name": "stdout",
     "output_type": "stream",
     "text": [
      "without,then,bag,world\n",
      "Sorted words: \n",
      "\n",
      "bag, then, without, world\n"
     ]
    }
   ],
   "source": [
    "x = input(\"\")\n",
    "lst = x.split(\",\")\n",
    "lst.sort()\n",
    "print(\"Sorted words: \\n\")\n",
    "print((\", \").join(lst))"
   ]
  },
  {
   "cell_type": "markdown",
   "id": "d28bbb04",
   "metadata": {},
   "source": [
    "# Question 4"
   ]
  },
  {
   "cell_type": "code",
   "execution_count": 2,
   "id": "42ef85fc",
   "metadata": {},
   "outputs": [
    {
     "name": "stdout",
     "output_type": "stream",
     "text": [
      "without bag then word\n",
      "bag then without word\n"
     ]
    }
   ],
   "source": [
    "sentence = input()\n",
    "splitted_sentence = sentence.split(\" \")\n",
    "word_list = []\n",
    "for i in splitted_sentence:\n",
    "    if i not in word_list:\n",
    "        word_list.append(i)\n",
    "    else:\n",
    "        continue\n",
    "\n",
    "word_list.sort()\n",
    "print((\" \").join(word_list))"
   ]
  },
  {
   "cell_type": "markdown",
   "id": "41c770ae",
   "metadata": {},
   "source": [
    "# Question 5"
   ]
  },
  {
   "cell_type": "code",
   "execution_count": 6,
   "id": "c32e5d97",
   "metadata": {},
   "outputs": [
    {
     "name": "stdout",
     "output_type": "stream",
     "text": [
      "hello world 123\n",
      "Total letters found :-  10\n",
      "Total digits found :-  3\n"
     ]
    }
   ],
   "source": [
    "string = input()\n",
    "string = list(string)\n",
    "total_digits = 0\n",
    "total_letters = 0\n",
    "for i in string:\n",
    "    if i.isdigit():\n",
    "        total_digits += 1\n",
    "    elif i.isalpha():\n",
    "        total_letters += 1\n",
    "    else:\n",
    "        pass\n",
    "print(\"Total letters found :- \", total_letters)\n",
    "print(\"Total digits found :- \", total_digits)"
   ]
  },
  {
   "cell_type": "markdown",
   "id": "4b3d2392",
   "metadata": {},
   "source": [
    "# Question 6"
   ]
  },
  {
   "cell_type": "code",
   "execution_count": 1,
   "id": "2961b9a5",
   "metadata": {},
   "outputs": [
    {
     "name": "stdout",
     "output_type": "stream",
     "text": [
      "Type in: ABd1234@1,a F1#,2w3E*,2We3345\n",
      "ABd1234@1\n"
     ]
    }
   ],
   "source": [
    "import re\n",
    "passwords = input(\"Type in: \")\n",
    "passwords = passwords.split(\",\")\n",
    "accepted_pass = []\n",
    "for i in passwords:\n",
    "    \n",
    "    if len(i) < 6 or len(i) > 12:\n",
    "        continue\n",
    "\n",
    "    elif not re.search(\"([a-z])+\", i):\n",
    "        continue\n",
    "\n",
    "    elif not re.search(\"([A-Z])+\", i):\n",
    "        continue\n",
    "\n",
    "    elif not re.search(\"([0-9])+\", i):\n",
    "        continue\n",
    "\n",
    "    elif not re.search(\"([!@$%^&])+\", i):\n",
    "        continue\n",
    "\n",
    "    else:\n",
    "        accepted_pass.append(i)\n",
    "\n",
    "print((\" \").join(accepted_pass))"
   ]
  },
  {
   "cell_type": "code",
   "execution_count": null,
   "id": "a5da0459",
   "metadata": {},
   "outputs": [],
   "source": []
  }
 ],
 "metadata": {
  "kernelspec": {
   "display_name": "Python 3",
   "language": "python",
   "name": "python3"
  },
  "language_info": {
   "codemirror_mode": {
    "name": "ipython",
    "version": 3
   },
   "file_extension": ".py",
   "mimetype": "text/x-python",
   "name": "python",
   "nbconvert_exporter": "python",
   "pygments_lexer": "ipython3",
   "version": "3.8.8"
  }
 },
 "nbformat": 4,
 "nbformat_minor": 5
}
