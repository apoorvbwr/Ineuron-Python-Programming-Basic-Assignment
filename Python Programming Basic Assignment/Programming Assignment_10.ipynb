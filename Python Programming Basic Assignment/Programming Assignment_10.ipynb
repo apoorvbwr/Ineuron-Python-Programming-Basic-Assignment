{
 "cells": [
  {
   "cell_type": "markdown",
   "id": "cecd18ac",
   "metadata": {},
   "source": [
    "# Question 1"
   ]
  },
  {
   "cell_type": "code",
   "execution_count": 1,
   "id": "ee4d2dc5",
   "metadata": {},
   "outputs": [
    {
     "name": "stdout",
     "output_type": "stream",
     "text": [
      "74\n"
     ]
    }
   ],
   "source": [
    "lst = [11, 5, 17, 18, 23]\n",
    "res = sum(lst)\n",
    "print(res)"
   ]
  },
  {
   "cell_type": "markdown",
   "id": "619d0124",
   "metadata": {},
   "source": [
    "# Question 2"
   ]
  },
  {
   "cell_type": "code",
   "execution_count": 2,
   "id": "10b06dda",
   "metadata": {},
   "outputs": [
    {
     "name": "stdout",
     "output_type": "stream",
     "text": [
      "387090\n"
     ]
    }
   ],
   "source": [
    "import math\n",
    "lst = [11, 5, 17, 18, 23]\n",
    "res = math.prod(lst)\n",
    "print(res)"
   ]
  },
  {
   "cell_type": "markdown",
   "id": "bde0ac66",
   "metadata": {},
   "source": [
    "# Question 3"
   ]
  },
  {
   "cell_type": "code",
   "execution_count": 3,
   "id": "43a1d730",
   "metadata": {},
   "outputs": [
    {
     "name": "stdout",
     "output_type": "stream",
     "text": [
      "5\n"
     ]
    }
   ],
   "source": [
    "lst = [11, 5, 17, 18, 23]\n",
    "print(min(lst))"
   ]
  },
  {
   "cell_type": "markdown",
   "id": "1b6ae75b",
   "metadata": {},
   "source": [
    "# Question 4"
   ]
  },
  {
   "cell_type": "code",
   "execution_count": 4,
   "id": "f778c99f",
   "metadata": {},
   "outputs": [
    {
     "name": "stdout",
     "output_type": "stream",
     "text": [
      "23\n"
     ]
    }
   ],
   "source": [
    "lst = [11, 5, 17, 18, 23]\n",
    "print(max(lst))"
   ]
  },
  {
   "cell_type": "markdown",
   "id": "c8bfea6e",
   "metadata": {},
   "source": [
    "# Question 5"
   ]
  },
  {
   "cell_type": "code",
   "execution_count": 5,
   "id": "79b0d8eb",
   "metadata": {},
   "outputs": [
    {
     "name": "stdout",
     "output_type": "stream",
     "text": [
      "18\n"
     ]
    }
   ],
   "source": [
    "lst = [11, 5, 17, 18, 23]\n",
    "lst=sorted(lst)\n",
    "res=lst[-2]\n",
    "print(res)"
   ]
  },
  {
   "cell_type": "markdown",
   "id": "ea4fdb07",
   "metadata": {},
   "source": [
    "# Question 6"
   ]
  },
  {
   "cell_type": "code",
   "execution_count": 6,
   "id": "224d359a",
   "metadata": {},
   "outputs": [
    {
     "name": "stdout",
     "output_type": "stream",
     "text": [
      "[17, 18, 23]\n"
     ]
    }
   ],
   "source": [
    "lst = [11, 5, 17, 18, 23]\n",
    "n = 3\n",
    "lst.sort()\n",
    "print(lst[-n:])"
   ]
  },
  {
   "cell_type": "markdown",
   "id": "163993ce",
   "metadata": {},
   "source": [
    "# Question 7"
   ]
  },
  {
   "cell_type": "code",
   "execution_count": 7,
   "id": "d181843a",
   "metadata": {},
   "outputs": [
    {
     "name": "stdout",
     "output_type": "stream",
     "text": [
      "[18, 20, 34]\n"
     ]
    }
   ],
   "source": [
    "lst = [11, 5, 17, 18, 23, 20, 34]\n",
    "even_num = [num for num in lst if num%2==0]\n",
    "print(even_num)"
   ]
  },
  {
   "cell_type": "markdown",
   "id": "0185c3d8",
   "metadata": {},
   "source": [
    "# Question 8"
   ]
  },
  {
   "cell_type": "code",
   "execution_count": 8,
   "id": "2492704b",
   "metadata": {},
   "outputs": [
    {
     "name": "stdout",
     "output_type": "stream",
     "text": [
      "[11, 5, 17, 23]\n"
     ]
    }
   ],
   "source": [
    "lst = [11, 5, 17, 18, 23, 20, 34]\n",
    "odd_num = [num for num in lst if num%2!=0]\n",
    "print(odd_num)"
   ]
  },
  {
   "cell_type": "markdown",
   "id": "7606b959",
   "metadata": {},
   "source": [
    "# Question 9"
   ]
  },
  {
   "cell_type": "code",
   "execution_count": 10,
   "id": "75960c6c",
   "metadata": {},
   "outputs": [
    {
     "name": "stdout",
     "output_type": "stream",
     "text": [
      "[[], 5, 17, [], 23, [], 34]\n",
      "[5, 17, 23, 34]\n"
     ]
    }
   ],
   "source": [
    "lst = [[], 5, 17, [], 23, [], 34]\n",
    "print(str(lst))\n",
    "res = list(filter(None, lst))\n",
    "print(str(res))"
   ]
  },
  {
   "cell_type": "markdown",
   "id": "a4a945e5",
   "metadata": {},
   "source": [
    "# Question 10"
   ]
  },
  {
   "cell_type": "code",
   "execution_count": 11,
   "id": "08182ca5",
   "metadata": {},
   "outputs": [
    {
     "name": "stdout",
     "output_type": "stream",
     "text": [
      "[4, 8, 2, 10, 15, 18]\n"
     ]
    }
   ],
   "source": [
    "def clone(lst):\n",
    "    lst1=[]\n",
    "    lst1=lst.copy()\n",
    "    return lst1\n",
    "lst = [4, 8, 2, 10, 15, 18]\n",
    "print(clone(lst))"
   ]
  },
  {
   "cell_type": "markdown",
   "id": "54fc46e6",
   "metadata": {},
   "source": [
    "# Question 11"
   ]
  },
  {
   "cell_type": "code",
   "execution_count": 13,
   "id": "21e762a6",
   "metadata": {},
   "outputs": [
    {
     "name": "stdout",
     "output_type": "stream",
     "text": [
      "5\n"
     ]
    }
   ],
   "source": [
    "def count(lst,x):\n",
    "    return lst.count(x)\n",
    "lst = [8, 6, 8, 10, 8, 20, 10, 8, 8]\n",
    "x = 8\n",
    "print(count(lst,x))"
   ]
  },
  {
   "cell_type": "code",
   "execution_count": null,
   "id": "83915cfe",
   "metadata": {},
   "outputs": [],
   "source": []
  }
 ],
 "metadata": {
  "kernelspec": {
   "display_name": "Python 3",
   "language": "python",
   "name": "python3"
  },
  "language_info": {
   "codemirror_mode": {
    "name": "ipython",
    "version": 3
   },
   "file_extension": ".py",
   "mimetype": "text/x-python",
   "name": "python",
   "nbconvert_exporter": "python",
   "pygments_lexer": "ipython3",
   "version": "3.8.8"
  }
 },
 "nbformat": 4,
 "nbformat_minor": 5
}
