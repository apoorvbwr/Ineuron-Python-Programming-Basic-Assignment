{
 "cells": [
  {
   "cell_type": "markdown",
   "id": "30da451e",
   "metadata": {},
   "source": [
    "# Question 1 and 2"
   ]
  },
  {
   "cell_type": "code",
   "execution_count": 6,
   "id": "e5a2c939",
   "metadata": {},
   "outputs": [
    {
     "name": "stdout",
     "output_type": "stream",
     "text": [
      "LCM of 15 and 20 is 60.0\n",
      "HCF of 15 and 20 is 5\n"
     ]
    }
   ],
   "source": [
    "def gcd(a,b):\n",
    "    if a == 0:\n",
    "        return b\n",
    "    return gcd(b % a, a)\n",
    "def lcm(a,b):\n",
    "    return (a / gcd(a,b))* b\n",
    "a = 15\n",
    "b = 20\n",
    "print('LCM of', a, 'and', b, 'is', lcm(a, b))\n",
    "print(\"HCF of\",a, \"and\", b, \"is\", gcd(a,b))"
   ]
  },
  {
   "cell_type": "markdown",
   "id": "53bd7eae",
   "metadata": {},
   "source": [
    "# Question 3"
   ]
  },
  {
   "cell_type": "code",
   "execution_count": 8,
   "id": "ddf54ca0",
   "metadata": {},
   "outputs": [
    {
     "name": "stdout",
     "output_type": "stream",
     "text": [
      "0b101011000\n",
      "0o530\n",
      "0x158\n"
     ]
    }
   ],
   "source": [
    "decimal = 344\n",
    "print(bin(decimal))\n",
    "print(oct(decimal))\n",
    "print(hex(decimal))"
   ]
  },
  {
   "cell_type": "markdown",
   "id": "854ada44",
   "metadata": {},
   "source": [
    "# Question 4"
   ]
  },
  {
   "cell_type": "code",
   "execution_count": 13,
   "id": "f26425da",
   "metadata": {},
   "outputs": [
    {
     "name": "stdout",
     "output_type": "stream",
     "text": [
      "112\n"
     ]
    }
   ],
   "source": [
    "c = 'p'\n",
    "print(ord(c))"
   ]
  },
  {
   "cell_type": "markdown",
   "id": "22382cb1",
   "metadata": {},
   "source": [
    "# Question 5"
   ]
  },
  {
   "cell_type": "code",
   "execution_count": 15,
   "id": "ca50ea6f",
   "metadata": {},
   "outputs": [
    {
     "name": "stdout",
     "output_type": "stream",
     "text": [
      "Please select operation -\n",
      "1. Add\n",
      "2. Subtract\n",
      "3. Multiply\n",
      "4. Divide\n",
      "\n",
      "Select operations form 1, 2, 3, 4 :1\n",
      "Enter first number: 1\n",
      "Enter second number: 1\n",
      "1 + 1 = 2\n"
     ]
    }
   ],
   "source": [
    "def add(num1, num2):\n",
    "    return num1 + num2\n",
    "def subtract(num1, num2):\n",
    "    return num1 - num2\n",
    "def multiply(num1, num2):\n",
    "    return num1 * num2\n",
    "def divide(num1, num2):\n",
    "    return num1 / num2\n",
    "  \n",
    "print(\"Please select operation -\\n\" \\\n",
    "        \"1. Add\\n\" \\\n",
    "        \"2. Subtract\\n\" \\\n",
    "        \"3. Multiply\\n\" \\\n",
    "        \"4. Divide\\n\") \n",
    "select = int(input(\"Select operations form 1, 2, 3, 4 :\"))\n",
    "  \n",
    "num1 = int(input(\"Enter first number: \"))\n",
    "num2 = int(input(\"Enter second number: \"))\n",
    "  \n",
    "if select == 1:\n",
    "    print(num1, \"+\", num2, \"=\",\n",
    "                    add(num1, num2))\n",
    "elif select == 2:\n",
    "    print(num1, \"-\", num2, \"=\",\n",
    "                    subtract(num1, num2))\n",
    "elif select == 3:\n",
    "    print(num1, \"*\", num2, \"=\",\n",
    "                    multiply(num1, num2))\n",
    "elif select == 4:\n",
    "    print(num1, \"/\", num2, \"=\",\n",
    "                    divide(num1, num2))\n",
    "else:\n",
    "    print(\"Invalid input\")"
   ]
  },
  {
   "cell_type": "code",
   "execution_count": null,
   "id": "2c82a8ca",
   "metadata": {},
   "outputs": [],
   "source": []
  }
 ],
 "metadata": {
  "kernelspec": {
   "display_name": "Python 3",
   "language": "python",
   "name": "python3"
  },
  "language_info": {
   "codemirror_mode": {
    "name": "ipython",
    "version": 3
   },
   "file_extension": ".py",
   "mimetype": "text/x-python",
   "name": "python",
   "nbconvert_exporter": "python",
   "pygments_lexer": "ipython3",
   "version": "3.8.8"
  }
 },
 "nbformat": 4,
 "nbformat_minor": 5
}
