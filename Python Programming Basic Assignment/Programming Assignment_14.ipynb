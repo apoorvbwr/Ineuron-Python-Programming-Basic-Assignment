{
 "cells": [
  {
   "cell_type": "markdown",
   "id": "395eb9a1",
   "metadata": {},
   "source": [
    "# Question 1"
   ]
  },
  {
   "cell_type": "code",
   "execution_count": 2,
   "id": "3d8000eb",
   "metadata": {},
   "outputs": [
    {
     "name": "stdout",
     "output_type": "stream",
     "text": [
      "0\n",
      "7\n",
      "14\n",
      "21\n",
      "28\n",
      "35\n",
      "42\n",
      "49\n",
      "56\n",
      "63\n",
      "70\n",
      "77\n",
      "84\n",
      "91\n",
      "98\n"
     ]
    }
   ],
   "source": [
    "class iterator(object):\n",
    "    def __init__(self,n):\n",
    "        super(iterator,self).__init__()\n",
    "        self.n=n\n",
    "    \n",
    "    def div_by_seven(self):\n",
    "        for i in range(0,self.n):\n",
    "            if i%7==0:\n",
    "                yield i\n",
    "\n",
    "for i in iterator(100).div_by_seven():\n",
    "    print(i)"
   ]
  },
  {
   "cell_type": "markdown",
   "id": "7e3f9c0f",
   "metadata": {},
   "source": [
    "# Question 2"
   ]
  },
  {
   "cell_type": "code",
   "execution_count": 6,
   "id": "3faa09b3",
   "metadata": {
    "scrolled": true
   },
   "outputs": [
    {
     "name": "stdout",
     "output_type": "stream",
     "text": [
      "New to Python or choosing between Python 2 and Python 3? Read Python 2 or Python 3.\n",
      "Frequency of words is:-\n",
      "2  :  2\n",
      "3.  :  1\n",
      "3?  :  1\n",
      "New  :  1\n",
      "Python  :  5\n",
      "Read  :  1\n",
      "and  :  1\n",
      "between  :  1\n",
      "choosing  :  1\n",
      "or  :  2\n",
      "to  :  1\n",
      "None\n"
     ]
    }
   ],
   "source": [
    "def freq(str):\n",
    "    str_lst = str.split()\n",
    "    unique_words = set(str_lst)\n",
    "    sort_words = sorted(unique_words)\n",
    "    for words in sort_words:\n",
    "        print(words,\" : \", str_lst.count(words))\n",
    "\n",
    "if __name__ == \"__main__\":\n",
    "    str = input()\n",
    "    print(\"Frequency of words is:-\")\n",
    "    print(freq(str))"
   ]
  },
  {
   "cell_type": "markdown",
   "id": "6775d1da",
   "metadata": {},
   "source": [
    "# Question 3"
   ]
  },
  {
   "cell_type": "code",
   "execution_count": 7,
   "id": "af0b8543",
   "metadata": {},
   "outputs": [
    {
     "name": "stdout",
     "output_type": "stream",
     "text": [
      "I Play Hockey \n",
      "I Play Football \n",
      "I Love Hockey \n",
      "I Love Football \n",
      "You Play Hockey \n",
      "You Play Football \n",
      "You Love Hockey \n",
      "You Love Football \n"
     ]
    }
   ],
   "source": [
    "subject = [\"I\",\"You\"]\n",
    "verb = [\"Play\",\"Love\"]\n",
    "object = [\"Hockey\",\"Football\"]\n",
    "sentence_list = [(sub+\" \"+ver+\" \"+obj+\" \") for sub in subject for ver in verb for obj in object]\n",
    "for i in sentence_list:\n",
    "    print(i)"
   ]
  },
  {
   "cell_type": "markdown",
   "id": "6d839853",
   "metadata": {},
   "source": [
    "# Question 4"
   ]
  },
  {
   "cell_type": "code",
   "execution_count": 11,
   "id": "bb3c35e7",
   "metadata": {},
   "outputs": [
    {
     "name": "stdout",
     "output_type": "stream",
     "text": [
      "b'x\\x9c\\xcbH\\xcd\\xc9\\xc9W(\\xcf/\\xcaIQ\\xcc \\x82\\r\\x00\\xbd[\\x11\\xf5'\n",
      "b'hello world!hello world!hello world!hello world!'\n"
     ]
    }
   ],
   "source": [
    "import zlib\n",
    "str = 'hello world!hello world!hello world!hello world!'\n",
    "x = bytes(str,'utf-8')\n",
    "t = zlib.compress(x)\n",
    "print(t)\n",
    "print(zlib.decompress(t))"
   ]
  },
  {
   "cell_type": "markdown",
   "id": "c7ff7a73",
   "metadata": {},
   "source": [
    "# Question 5"
   ]
  },
  {
   "cell_type": "code",
   "execution_count": 13,
   "id": "51baa59f",
   "metadata": {},
   "outputs": [
    {
     "name": "stdout",
     "output_type": "stream",
     "text": [
      "3\n"
     ]
    }
   ],
   "source": [
    "import math\n",
    "def binary(lst,item):\n",
    "    low = 0\n",
    "    high = len(lst)-1\n",
    "    nothing = -1\n",
    "    \n",
    "    while low <= high:\n",
    "        mid = int(math.floor((high+low)/2.0))\n",
    "        \n",
    "        if lst[mid] == item:\n",
    "            return mid\n",
    "        elif lst[mid] > item:\n",
    "            high = mid-1\n",
    "        elif lst[mid]<1:\n",
    "            low = mid+1\n",
    "        else:\n",
    "            pass\n",
    "        \n",
    "    return nothing\n",
    "\n",
    "lst = [2,5,7,9,11,17,222]\n",
    "print(binary(lst,9))"
   ]
  },
  {
   "cell_type": "code",
   "execution_count": null,
   "id": "2590ee2c",
   "metadata": {},
   "outputs": [],
   "source": []
  }
 ],
 "metadata": {
  "kernelspec": {
   "display_name": "Python 3 (ipykernel)",
   "language": "python",
   "name": "python3"
  },
  "language_info": {
   "codemirror_mode": {
    "name": "ipython",
    "version": 3
   },
   "file_extension": ".py",
   "mimetype": "text/x-python",
   "name": "python",
   "nbconvert_exporter": "python",
   "pygments_lexer": "ipython3",
   "version": "3.7.13"
  }
 },
 "nbformat": 4,
 "nbformat_minor": 5
}
