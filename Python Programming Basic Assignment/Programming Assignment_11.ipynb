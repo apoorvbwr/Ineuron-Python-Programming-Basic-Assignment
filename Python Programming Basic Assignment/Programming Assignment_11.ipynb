{
 "cells": [
  {
   "cell_type": "markdown",
   "metadata": {},
   "source": [
    "# Question 1"
   ]
  },
  {
   "cell_type": "code",
   "execution_count": 3,
   "metadata": {
    "colab": {
     "base_uri": "https://localhost:8080/"
    },
    "id": "WX-Qn8HbcLAD",
    "outputId": "9c4ff4ec-e3b6-450c-da99-f22139c45c98"
   },
   "outputs": [
    {
     "name": "stdout",
     "output_type": "stream",
     "text": [
      "['Machine', 'Learning', 'Deep', 'Learning']\n"
     ]
    }
   ],
   "source": [
    "s = \"Machine Learning Deep Learning\"\n",
    "k = 3\n",
    "print([x for x in s.split() if len(x) > k])"
   ]
  },
  {
   "cell_type": "markdown",
   "metadata": {},
   "source": [
    "# Question 2"
   ]
  },
  {
   "cell_type": "code",
   "execution_count": 5,
   "metadata": {
    "colab": {
     "base_uri": "https://localhost:8080/"
    },
    "id": "2E-gRxVWeNF4",
    "outputId": "0af73333-ad56-452d-83db-f126dbc5e787"
   },
   "outputs": [
    {
     "name": "stdout",
     "output_type": "stream",
     "text": [
      "aoorv sharma\n"
     ]
    }
   ],
   "source": [
    "s = \"apoorv sharma\"\n",
    "new_string = s.replace('p','',1)\n",
    "print(new_string)"
   ]
  },
  {
   "cell_type": "markdown",
   "metadata": {},
   "source": [
    "# Question 3"
   ]
  },
  {
   "cell_type": "code",
   "execution_count": 7,
   "metadata": {
    "colab": {
     "base_uri": "https://localhost:8080/"
    },
    "id": "P0nBPs-5hLex",
    "outputId": "68fd27ad-0651-4eac-fac1-0a4df30f09ce"
   },
   "outputs": [
    {
     "name": "stdout",
     "output_type": "stream",
     "text": [
      "['I', 'love', 'machine', 'learning']\n",
      "I-love-machine-learning\n"
     ]
    }
   ],
   "source": [
    "string = \"I love machine learning\"\n",
    "split_string = string.split(\" \")\n",
    "print(split_string)\n",
    "join_string = \"-\".join(split_string)\n",
    "print(join_string)"
   ]
  },
  {
   "cell_type": "markdown",
   "metadata": {},
   "source": [
    "# Question 4 "
   ]
  },
  {
   "cell_type": "code",
   "execution_count": 10,
   "metadata": {
    "colab": {
     "base_uri": "https://localhost:8080/"
    },
    "id": "bm6mLYtqiVGx",
    "outputId": "f4f204c8-5b6c-4ab1-f6f1-b87947821fb4"
   },
   "outputs": [
    {
     "name": "stdout",
     "output_type": "stream",
     "text": [
      "True\n"
     ]
    }
   ],
   "source": [
    "test_string = \"01010101010000\"\n",
    "result = all(x in \"01\" for x in test_string)\n",
    "print(result)"
   ]
  },
  {
   "cell_type": "markdown",
   "metadata": {},
   "source": [
    "# Question 5"
   ]
  },
  {
   "cell_type": "code",
   "execution_count": 11,
   "metadata": {
    "colab": {
     "base_uri": "https://localhost:8080/"
    },
    "id": "DF-vpT7ukare",
    "outputId": "adf6f5e0-2203-4696-e480-e99eaec49fac"
   },
   "outputs": [
    {
     "name": "stdout",
     "output_type": "stream",
     "text": [
      " apple fruits\n"
     ]
    }
   ],
   "source": [
    "def uncommon(a,b):\n",
    "  list_a = a.split()\n",
    "  list_b = b.split()\n",
    "  res = \"\"\n",
    "  for i in list_a:\n",
    "    if i not in list_b:\n",
    "      res = res+\" \"+i\n",
    "  for j in list_b:\n",
    "    if j not in list_a:\n",
    "      res = res+\" \"+j\n",
    "  \n",
    "  return res\n",
    "\n",
    "a = \"apple banana mango\"\n",
    "b = \"banana fruits mango\"\n",
    "print(uncommon(a,b))"
   ]
  },
  {
   "cell_type": "markdown",
   "metadata": {},
   "source": [
    "# Question 6"
   ]
  },
  {
   "cell_type": "code",
   "execution_count": 13,
   "metadata": {
    "colab": {
     "base_uri": "https://localhost:8080/"
    },
    "id": "LfQcTxhEojQ-",
    "outputId": "df5dc2a5-f67d-4ecf-a3c5-891a8e3efa0b"
   },
   "outputs": [
    {
     "name": "stdout",
     "output_type": "stream",
     "text": [
      "Enter a word = Hello\n",
      "H 1\n",
      "e 1\n",
      "l 2\n",
      "l 2\n",
      "o 1\n",
      "None\n"
     ]
    }
   ],
   "source": [
    "def find_duplicate():\n",
    "    x =input(\"Enter a word = \")\n",
    "    for char in x :\n",
    "        counts=x.count(char)\n",
    "        print(char,counts)\n",
    "\n",
    "print(find_duplicate())"
   ]
  },
  {
   "cell_type": "markdown",
   "metadata": {},
   "source": [
    "# Question 7"
   ]
  },
  {
   "cell_type": "code",
   "execution_count": 14,
   "metadata": {
    "colab": {
     "base_uri": "https://localhost:8080/"
    },
    "id": "XbhVJHv1pPii",
    "outputId": "6bbaef1e-4261-4d9c-8d6f-989ce8d4c7db"
   },
   "outputs": [
    {
     "name": "stdout",
     "output_type": "stream",
     "text": [
      "yes\n"
     ]
    }
   ],
   "source": [
    "special_characters = \"!@#$%^&*()-+?_=,<>/\"\n",
    "s=\"@ap#$%&*><\"\n",
    "\n",
    "if any(c in special_characters for c in s):\n",
    "    print(\"yes\")\n",
    "else:\n",
    "    print(\"no\")"
   ]
  },
  {
   "cell_type": "code",
   "execution_count": null,
   "metadata": {
    "id": "_wXpomJup73M"
   },
   "outputs": [],
   "source": []
  }
 ],
 "metadata": {
  "colab": {
   "collapsed_sections": [],
   "name": "Python Assignment_11.ipynb",
   "provenance": []
  },
  "kernelspec": {
   "display_name": "Python 3",
   "language": "python",
   "name": "python3"
  },
  "language_info": {
   "codemirror_mode": {
    "name": "ipython",
    "version": 3
   },
   "file_extension": ".py",
   "mimetype": "text/x-python",
   "name": "python",
   "nbconvert_exporter": "python",
   "pygments_lexer": "ipython3",
   "version": "3.8.8"
  }
 },
 "nbformat": 4,
 "nbformat_minor": 1
}
