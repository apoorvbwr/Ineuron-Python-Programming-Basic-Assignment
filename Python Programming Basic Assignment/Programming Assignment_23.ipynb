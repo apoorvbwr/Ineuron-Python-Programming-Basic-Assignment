{
 "cells": [
  {
   "cell_type": "markdown",
   "id": "3959d569",
   "metadata": {},
   "source": [
    "# Question 1"
   ]
  },
  {
   "cell_type": "code",
   "execution_count": 3,
   "id": "6318b4a2",
   "metadata": {},
   "outputs": [
    {
     "name": "stdout",
     "output_type": "stream",
     "text": [
      "True\n"
     ]
    }
   ],
   "source": [
    "def solution(n):\n",
    "    sym = str(n)[::-1]\n",
    "    if str(n) == sym:\n",
    "        print(\"True\")\n",
    "    else:\n",
    "        print(\"False\")\n",
    "\n",
    "solution(7227)"
   ]
  },
  {
   "cell_type": "markdown",
   "id": "cdcfc174",
   "metadata": {},
   "source": [
    "# Question 2"
   ]
  },
  {
   "cell_type": "code",
   "execution_count": 4,
   "id": "503acd34",
   "metadata": {},
   "outputs": [
    {
     "name": "stdout",
     "output_type": "stream",
     "text": [
      "6\n"
     ]
    }
   ],
   "source": [
    "def solution(string):\n",
    "    res = string.replace(' ','').split(',')\n",
    "    out_num = 1\n",
    "    for ele in res:\n",
    "        out_num *= int(ele)\n",
    "    print(out_num)\n",
    "    \n",
    "solution(\"2, 3\")"
   ]
  },
  {
   "cell_type": "markdown",
   "id": "96a9ea33",
   "metadata": {},
   "source": [
    "# Question 3"
   ]
  },
  {
   "cell_type": "code",
   "execution_count": 7,
   "id": "1af48a05",
   "metadata": {},
   "outputs": [
    {
     "name": "stdout",
     "output_type": "stream",
     "text": [
      "811181\n"
     ]
    }
   ],
   "source": [
    "def solution(num):\n",
    "    result = ''.join(str(int(i)**2) for i in str(num))\n",
    "    print(result)\n",
    "solution(9119)"
   ]
  },
  {
   "cell_type": "markdown",
   "id": "ad6e89ec",
   "metadata": {},
   "source": [
    "# Question 4"
   ]
  },
  {
   "cell_type": "code",
   "execution_count": 8,
   "id": "75bef9c8",
   "metadata": {},
   "outputs": [
    {
     "name": "stdout",
     "output_type": "stream",
     "text": [
      "[1, 3, 5]\n"
     ]
    }
   ],
   "source": [
    "def solution(lst):\n",
    "    result = sorted(set(lst))\n",
    "    print(result)\n",
    "solution([1,3,3,5,5])"
   ]
  },
  {
   "cell_type": "markdown",
   "id": "af560fec",
   "metadata": {},
   "source": [
    "# Question 5"
   ]
  },
  {
   "cell_type": "code",
   "execution_count": 10,
   "id": "30178702",
   "metadata": {},
   "outputs": [
    {
     "name": "stdout",
     "output_type": "stream",
     "text": [
      "3\n"
     ]
    }
   ],
   "source": [
    "def mean(num):\n",
    "    lst = [int(ele) for ele in str(num)]\n",
    "    result = sum(lst) / len(str(num))\n",
    "    print(int(result))\n",
    "mean(12345)"
   ]
  },
  {
   "cell_type": "code",
   "execution_count": null,
   "id": "4135f4ab",
   "metadata": {},
   "outputs": [],
   "source": []
  }
 ],
 "metadata": {
  "kernelspec": {
   "display_name": "Python 3 (ipykernel)",
   "language": "python",
   "name": "python3"
  },
  "language_info": {
   "codemirror_mode": {
    "name": "ipython",
    "version": 3
   },
   "file_extension": ".py",
   "mimetype": "text/x-python",
   "name": "python",
   "nbconvert_exporter": "python",
   "pygments_lexer": "ipython3",
   "version": "3.7.13"
  }
 },
 "nbformat": 4,
 "nbformat_minor": 5
}
