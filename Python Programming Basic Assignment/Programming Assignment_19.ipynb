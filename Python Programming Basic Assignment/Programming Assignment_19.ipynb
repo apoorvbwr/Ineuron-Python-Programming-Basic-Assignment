{
 "cells": [
  {
   "cell_type": "markdown",
   "id": "75adf835",
   "metadata": {},
   "source": [
    "# Question 1"
   ]
  },
  {
   "cell_type": "code",
   "execution_count": 2,
   "id": "a0409384",
   "metadata": {},
   "outputs": [
    {
     "name": "stdout",
     "output_type": "stream",
     "text": [
      "AAppoooorrvv\n"
     ]
    }
   ],
   "source": [
    "def double(str):\n",
    "    return ''.join([c+c for c in str])\n",
    "print(double(\"Apoorv\"))"
   ]
  },
  {
   "cell_type": "markdown",
   "id": "e32dcfdc",
   "metadata": {},
   "source": [
    "# Question 2"
   ]
  },
  {
   "cell_type": "code",
   "execution_count": 3,
   "id": "a408e504",
   "metadata": {},
   "outputs": [
    {
     "name": "stdout",
     "output_type": "stream",
     "text": [
      "False\n",
      "True\n"
     ]
    }
   ],
   "source": [
    "def reverse(arg=None):\n",
    "    return (not arg if type(arg) == bool else \"boolean expected\")\n",
    "print(reverse(True)) \n",
    "print(reverse(False))"
   ]
  },
  {
   "cell_type": "markdown",
   "id": "c88f9e33",
   "metadata": {},
   "source": [
    "# Question 3"
   ]
  },
  {
   "cell_type": "code",
   "execution_count": 4,
   "id": "8521d21e",
   "metadata": {},
   "outputs": [
    {
     "name": "stdout",
     "output_type": "stream",
     "text": [
      "0.008\n"
     ]
    }
   ],
   "source": [
    "def fold(a):\n",
    "    res = 0.5\n",
    "    for _ in range(a):\n",
    "        res *= 2\n",
    "    return res/1000\n",
    "\n",
    "print(fold(4))"
   ]
  },
  {
   "cell_type": "markdown",
   "id": "aa70c67e",
   "metadata": {},
   "source": [
    "# Question 4"
   ]
  },
  {
   "cell_type": "code",
   "execution_count": 5,
   "id": "18f757fd",
   "metadata": {},
   "outputs": [
    {
     "name": "stdout",
     "output_type": "stream",
     "text": [
      "[0, 6, 9, 11]\n"
     ]
    }
   ],
   "source": [
    "def upper(str):\n",
    "    res = [i for i in range(len(str)) if str[i].isupper()]\n",
    "    return res\n",
    "print(upper(\"ApoorvShaRmA\"))"
   ]
  },
  {
   "cell_type": "markdown",
   "id": "b34fb602",
   "metadata": {},
   "source": [
    "# Question 5"
   ]
  },
  {
   "cell_type": "code",
   "execution_count": 7,
   "id": "aba22e0b",
   "metadata": {},
   "outputs": [
    {
     "name": "stdout",
     "output_type": "stream",
     "text": [
      "[10, 68, 74, 66, 14]\n"
     ]
    }
   ],
   "source": [
    "lst = [10,21,55,63,68,74,66,14]\n",
    "res = [i for i in lst if i%2==0]\n",
    "print(res)"
   ]
  },
  {
   "cell_type": "code",
   "execution_count": null,
   "id": "7439badc",
   "metadata": {},
   "outputs": [],
   "source": []
  }
 ],
 "metadata": {
  "kernelspec": {
   "display_name": "Python 3 (ipykernel)",
   "language": "python",
   "name": "python3"
  },
  "language_info": {
   "codemirror_mode": {
    "name": "ipython",
    "version": 3
   },
   "file_extension": ".py",
   "mimetype": "text/x-python",
   "name": "python",
   "nbconvert_exporter": "python",
   "pygments_lexer": "ipython3",
   "version": "3.7.13"
  }
 },
 "nbformat": 4,
 "nbformat_minor": 5
}
