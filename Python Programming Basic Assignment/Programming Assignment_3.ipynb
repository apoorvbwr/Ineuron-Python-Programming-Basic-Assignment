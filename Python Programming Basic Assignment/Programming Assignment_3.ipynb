{
 "cells": [
  {
   "cell_type": "markdown",
   "id": "95b599bd",
   "metadata": {},
   "source": [
    "# Question 1 "
   ]
  },
  {
   "cell_type": "code",
   "execution_count": 3,
   "id": "8f6018f8",
   "metadata": {},
   "outputs": [
    {
     "name": "stdout",
     "output_type": "stream",
     "text": [
      "Enter number0\n",
      "Number is zero\n"
     ]
    }
   ],
   "source": [
    "n = int(input(\"Enter number\"))\n",
    "if n<0:\n",
    "    print(\"Number is negative\")\n",
    "elif n>0:\n",
    "    print(\"Number is positive\")\n",
    "else:\n",
    "    print(\"Number is zero\")"
   ]
  },
  {
   "cell_type": "markdown",
   "id": "9c217524",
   "metadata": {},
   "source": [
    "# Question 2"
   ]
  },
  {
   "cell_type": "code",
   "execution_count": 5,
   "id": "a380e304",
   "metadata": {},
   "outputs": [
    {
     "name": "stdout",
     "output_type": "stream",
     "text": [
      "Enter number8\n",
      "Number is even\n"
     ]
    }
   ],
   "source": [
    "n = int(input(\"Enter number\"))\n",
    "if n%2==0:\n",
    "    print(\"Number is even\")\n",
    "elif n%2!=0:\n",
    "    print(\"Number is odd\")\n",
    "else:\n",
    "    pass"
   ]
  },
  {
   "cell_type": "markdown",
   "id": "d8b21653",
   "metadata": {},
   "source": [
    "# Question 3"
   ]
  },
  {
   "cell_type": "code",
   "execution_count": 7,
   "id": "5046c701",
   "metadata": {},
   "outputs": [
    {
     "name": "stdout",
     "output_type": "stream",
     "text": [
      "Enter year2001\n",
      "2001 is not a leap year\n"
     ]
    }
   ],
   "source": [
    "year = int(input(\"Enter year\"))\n",
    "if (year % 400 == 0) and (year % 100 == 0):\n",
    "    print(\"{0} is a leap year\".format(year))\n",
    "elif (year % 4 ==0) and (year % 100 != 0):\n",
    "    print(\"{0} is a leap year\".format(year))\n",
    "else:\n",
    "    print(\"{0} is not a leap year\".format(year))"
   ]
  },
  {
   "cell_type": "markdown",
   "id": "88998f9f",
   "metadata": {},
   "source": [
    "# Question 4 "
   ]
  },
  {
   "cell_type": "code",
   "execution_count": 10,
   "id": "85700d47",
   "metadata": {},
   "outputs": [
    {
     "name": "stdout",
     "output_type": "stream",
     "text": [
      "Enter number6\n",
      "Number is not a prime number\n"
     ]
    }
   ],
   "source": [
    "num = int(input(\"Enter number\"))\n",
    "if num > 1:\n",
    "    for i in range(2, int(num/2)+1):\n",
    "        if (num % i) == 0:\n",
    "            print(\"Number is not a prime number\")\n",
    "            break\n",
    "    else:\n",
    "        print(\"Number is a prime number\")\n",
    "else:\n",
    "    print(\"Number is not a prime number\")"
   ]
  },
  {
   "cell_type": "markdown",
   "id": "43ae2727",
   "metadata": {},
   "source": [
    "# Question 5 "
   ]
  },
  {
   "cell_type": "code",
   "execution_count": 12,
   "id": "9e823983",
   "metadata": {},
   "outputs": [
    {
     "name": "stdout",
     "output_type": "stream",
     "text": [
      "2 3 5 7 11 13 17 19 23 29 31 37 41 43 47 53 59 61 67 71 73 79 83 89 97 101 103 107 109 113 127 131 137 139 149 151 157 163 167 173 179 181 191 193 197 199 211 223 227 229 233 239 241 251 257 263 269 271 277 281 283 293 307 311 313 317 331 337 347 349 353 359 367 373 379 383 389 397 401 409 419 421 431 433 439 443 449 457 461 463 467 479 487 491 499 503 509 521 523 541 547 557 563 569 571 577 587 593 599 601 607 613 617 619 631 641 643 647 653 659 661 673 677 683 691 701 709 719 727 733 739 743 751 757 761 769 773 787 797 809 811 821 823 827 829 839 853 857 859 863 877 881 883 887 907 911 919 929 937 941 947 953 967 971 977 983 991 997 "
     ]
    }
   ],
   "source": [
    "def check_prime_no(num):\n",
    "    if num > 1:\n",
    "        \n",
    "        for i in range(2, num):\n",
    "            if (num % i) == 0:\n",
    "                break\n",
    "        else:\n",
    "            print(num,end=\" \")\n",
    "    \n",
    "lower = 1\n",
    "upper = 1000\n",
    "for i in range(lower, upper + 1):\n",
    "    check_prime_no(i)"
   ]
  },
  {
   "cell_type": "code",
   "execution_count": null,
   "id": "a2c1799f",
   "metadata": {},
   "outputs": [],
   "source": []
  }
 ],
 "metadata": {
  "kernelspec": {
   "display_name": "Python 3",
   "language": "python",
   "name": "python3"
  },
  "language_info": {
   "codemirror_mode": {
    "name": "ipython",
    "version": 3
   },
   "file_extension": ".py",
   "mimetype": "text/x-python",
   "name": "python",
   "nbconvert_exporter": "python",
   "pygments_lexer": "ipython3",
   "version": "3.8.8"
  }
 },
 "nbformat": 4,
 "nbformat_minor": 5
}
