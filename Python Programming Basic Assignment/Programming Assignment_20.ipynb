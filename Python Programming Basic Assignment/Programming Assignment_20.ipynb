{
 "cells": [
  {
   "cell_type": "markdown",
   "id": "75270ee1",
   "metadata": {},
   "source": [
    "# Question 1"
   ]
  },
  {
   "cell_type": "code",
   "execution_count": 1,
   "id": "e75e7d35",
   "metadata": {},
   "outputs": [
    {
     "name": "stdout",
     "output_type": "stream",
     "text": [
      "None\n"
     ]
    }
   ],
   "source": [
    "def result(lst):\n",
    "    list(filter(lambda x: isinstance(x, int), lst))\n",
    "print(result([1,2,'a','b']))"
   ]
  },
  {
   "cell_type": "markdown",
   "id": "8cb465fd",
   "metadata": {},
   "source": [
    "# Question 2"
   ]
  },
  {
   "cell_type": "code",
   "execution_count": 2,
   "id": "94928d12",
   "metadata": {},
   "outputs": [
    {
     "data": {
      "text/plain": [
       "[1, 2]"
      ]
     },
     "execution_count": 2,
     "metadata": {},
     "output_type": "execute_result"
    }
   ],
   "source": [
    "def filter_list(l):\n",
    "    return [item for item in l if isinstance(item, int)]\n",
    "filter_list([1,2,'a','b'])"
   ]
  },
  {
   "cell_type": "markdown",
   "id": "03a1de57",
   "metadata": {},
   "source": [
    "# Question 3"
   ]
  },
  {
   "cell_type": "code",
   "execution_count": 5,
   "id": "275a5e93",
   "metadata": {},
   "outputs": [
    {
     "name": "stdout",
     "output_type": "stream",
     "text": [
      "18.84\n"
     ]
    }
   ],
   "source": [
    "import math\n",
    "def area(r,h):\n",
    "    res = (3.14*r*r*h) / 3\n",
    "    return res\n",
    "print(area(3,2))"
   ]
  },
  {
   "cell_type": "markdown",
   "id": "72160c78",
   "metadata": {},
   "source": [
    "# Question 5"
   ]
  },
  {
   "cell_type": "code",
   "execution_count": 7,
   "id": "7a367f5c",
   "metadata": {},
   "outputs": [
    {
     "name": "stdout",
     "output_type": "stream",
     "text": [
      "4\n"
     ]
    }
   ],
   "source": [
    "def missing(lst):\n",
    "    n = len(lst)\n",
    "    total = (n+1)*(n+2)//2\n",
    "    sum_lst = sum(lst)\n",
    "    return total -sum_lst\n",
    "\n",
    "lst = [1,2,3,5,6,7,8,9,10]\n",
    "print(missing(lst))"
   ]
  },
  {
   "cell_type": "code",
   "execution_count": null,
   "id": "79f0e20a",
   "metadata": {},
   "outputs": [],
   "source": []
  }
 ],
 "metadata": {
  "kernelspec": {
   "display_name": "Python 3 (ipykernel)",
   "language": "python",
   "name": "python3"
  },
  "language_info": {
   "codemirror_mode": {
    "name": "ipython",
    "version": 3
   },
   "file_extension": ".py",
   "mimetype": "text/x-python",
   "name": "python",
   "nbconvert_exporter": "python",
   "pygments_lexer": "ipython3",
   "version": "3.7.13"
  }
 },
 "nbformat": 4,
 "nbformat_minor": 5
}
