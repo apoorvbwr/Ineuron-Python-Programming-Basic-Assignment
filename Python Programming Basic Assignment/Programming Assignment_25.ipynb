{
 "cells": [
  {
   "cell_type": "markdown",
   "id": "d1f7a34a",
   "metadata": {},
   "source": [
    "# Question 1"
   ]
  },
  {
   "cell_type": "code",
   "execution_count": 2,
   "id": "0f4e47ce",
   "metadata": {},
   "outputs": [
    {
     "name": "stdout",
     "output_type": "stream",
     "text": [
      "3\n"
     ]
    }
   ],
   "source": [
    "def equal(a,b,c):\n",
    "    if a==b==c:\n",
    "         print(3)\n",
    "    elif a==b or b==c:\n",
    "        print(2)\n",
    "    else:\n",
    "        print(0)\n",
    "\n",
    "equal(1,1,1)"
   ]
  },
  {
   "cell_type": "markdown",
   "id": "3ffcb0b6",
   "metadata": {},
   "source": [
    "# Question 2"
   ]
  },
  {
   "cell_type": "code",
   "execution_count": 3,
   "id": "677d0581",
   "metadata": {},
   "outputs": [
    {
     "name": "stdout",
     "output_type": "stream",
     "text": [
      "[('likes', 2), ('dislikes', 3), ('followers', 10)]\n"
     ]
    }
   ],
   "source": [
    "def solution(dictionary):\n",
    "    result = []\n",
    "    for keys,values in dictionary.items():\n",
    "        result.append((keys,values))\n",
    "    print(result)\n",
    "\n",
    "solution({\"likes\": 2,\"dislikes\": 3,\"followers\": 10})"
   ]
  },
  {
   "cell_type": "markdown",
   "id": "cf51c40a",
   "metadata": {},
   "source": [
    "# Question 3"
   ]
  },
  {
   "cell_type": "code",
   "execution_count": 4,
   "id": "3d21ad89",
   "metadata": {},
   "outputs": [
    {
     "name": "stdout",
     "output_type": "stream",
     "text": [
      "{'p': 'P', 's': 'S'}\n"
     ]
    }
   ],
   "source": [
    "def solution(lst):\n",
    "    result = {}\n",
    "    for i in lst:\n",
    "        result[i] = i.upper()\n",
    "    print(result)\n",
    "\n",
    "solution([\"p\",\"s\"])"
   ]
  },
  {
   "cell_type": "markdown",
   "id": "e6d764d6",
   "metadata": {},
   "source": [
    "# Question 4 "
   ]
  },
  {
   "cell_type": "code",
   "execution_count": 5,
   "id": "d743e18c",
   "metadata": {},
   "outputs": [
    {
     "name": "stdout",
     "output_type": "stream",
     "text": [
      "upplus und bununus\n"
     ]
    }
   ],
   "source": [
    "def replace(string_char,vowel_char):\n",
    "    vowels = ['a','e','i','o','u']\n",
    "    result_string = ''\n",
    "    for ele in string_char:\n",
    "        if ele in vowels:\n",
    "            result_string += vowel_char\n",
    "        else:\n",
    "            result_string += ele\n",
    "    print(result_string)\n",
    "\n",
    "replace(\"apples and bananas\", \"u\")"
   ]
  },
  {
   "cell_type": "markdown",
   "id": "c6f1bda5",
   "metadata": {},
   "source": [
    "# Question 5"
   ]
  },
  {
   "cell_type": "code",
   "execution_count": 6,
   "id": "15a0b429",
   "metadata": {},
   "outputs": [
    {
     "name": "stdout",
     "output_type": "stream",
     "text": [
      "oH wHaT a BeauTiFuL moRNiNg.\n"
     ]
    }
   ],
   "source": [
    "def ascii_cap(string):\n",
    "    result_string = ''\n",
    "    for ele in string.lower():\n",
    "        if (ord(ele)%2 == 0):\n",
    "            result_string += ele.upper()\n",
    "        else:\n",
    "            result_string += ele\n",
    "    print(result_string)\n",
    "\n",
    "ascii_cap(\"Oh what a beautiful morning.\")"
   ]
  },
  {
   "cell_type": "code",
   "execution_count": null,
   "id": "2d503235",
   "metadata": {},
   "outputs": [],
   "source": []
  }
 ],
 "metadata": {
  "kernelspec": {
   "display_name": "Python 3 (ipykernel)",
   "language": "python",
   "name": "python3"
  },
  "language_info": {
   "codemirror_mode": {
    "name": "ipython",
    "version": 3
   },
   "file_extension": ".py",
   "mimetype": "text/x-python",
   "name": "python",
   "nbconvert_exporter": "python",
   "pygments_lexer": "ipython3",
   "version": "3.7.13"
  }
 },
 "nbformat": 4,
 "nbformat_minor": 5
}
