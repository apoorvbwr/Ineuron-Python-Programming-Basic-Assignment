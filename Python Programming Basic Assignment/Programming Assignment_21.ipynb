{
 "cells": [
  {
   "cell_type": "markdown",
   "id": "fd400434",
   "metadata": {},
   "source": [
    "# Question 1"
   ]
  },
  {
   "cell_type": "code",
   "execution_count": 4,
   "id": "1558b62f",
   "metadata": {},
   "outputs": [
    {
     "name": "stdout",
     "output_type": "stream",
     "text": [
      "[6, 7, 8, 9, 1]\n"
     ]
    }
   ],
   "source": [
    "def solution(lst,n):\n",
    "    if len(lst)>1:\n",
    "        lst.append(n)\n",
    "        lst.remove(lst[0])\n",
    "        print(lst)\n",
    "    else:\n",
    "        print(\"No list is selected\")\n",
    "\n",
    "solution([5, 6, 7, 8, 9], 1) "
   ]
  },
  {
   "cell_type": "markdown",
   "id": "78b4fc07",
   "metadata": {},
   "source": [
    "# Question 2"
   ]
  },
  {
   "cell_type": "code",
   "execution_count": 9,
   "id": "eb3e7fec",
   "metadata": {},
   "outputs": [
    {
     "name": "stdout",
     "output_type": "stream",
     "text": [
      "65700\n"
     ]
    }
   ],
   "source": [
    "def sol(dict_lst):\n",
    "    sum = 0\n",
    "    for i in dict_lst:\n",
    "        sum += i[\"budget\"]\n",
    "    print(sum)\n",
    "\n",
    "sol([{ \"name\": \"John\", \"age\": 21, \"budget\": 23000 },\n",
    "     { \"name\": \"Steve\", \"age\": 32, \"budget\": 40000 },\n",
    "     { \"name\": \"Martin\", \"age\": 16, \"budget\": 2700 }\n",
    "])"
   ]
  },
  {
   "cell_type": "markdown",
   "id": "256cbba9",
   "metadata": {},
   "source": [
    "# Question 3"
   ]
  },
  {
   "cell_type": "code",
   "execution_count": 15,
   "id": "77a819ef",
   "metadata": {},
   "outputs": [
    {
     "data": {
      "text/plain": [
       "'aooprv'"
      ]
     },
     "execution_count": 15,
     "metadata": {},
     "output_type": "execute_result"
    }
   ],
   "source": [
    "def solution(x):\n",
    "    res = sorted(x)\n",
    "    res = \"\".join(res)\n",
    "    return res\n",
    "solution(\"apoorv\")"
   ]
  },
  {
   "cell_type": "markdown",
   "id": "bece5483",
   "metadata": {},
   "source": [
    "# Question 4"
   ]
  },
  {
   "cell_type": "code",
   "execution_count": 18,
   "id": "9d112e60",
   "metadata": {},
   "outputs": [
    {
     "name": "stdout",
     "output_type": "stream",
     "text": [
      "6288.9462677744195\n"
     ]
    }
   ],
   "source": [
    "def solution(p,r,t):\n",
    "    amt = p*(pow((1+r/100),t))\n",
    "    CI = amt-p\n",
    "    print(CI)\n",
    "solution(10000,5,10)"
   ]
  },
  {
   "cell_type": "markdown",
   "id": "7c73f2b9",
   "metadata": {},
   "source": [
    "# Question 5"
   ]
  },
  {
   "cell_type": "code",
   "execution_count": 22,
   "id": "e851b20e",
   "metadata": {},
   "outputs": [
    {
     "name": "stdout",
     "output_type": "stream",
     "text": [
      "[9, 2, 16]\n"
     ]
    }
   ],
   "source": [
    "def solution(lst):\n",
    "    res = []\n",
    "    for i in lst:\n",
    "        if type(i) == int:\n",
    "            res.append(i)\n",
    "    print(res)\n",
    "solution([9, 2, \"space\", \"car\", \"lion\", 16])"
   ]
  },
  {
   "cell_type": "code",
   "execution_count": null,
   "id": "de071fc7",
   "metadata": {},
   "outputs": [],
   "source": []
  }
 ],
 "metadata": {
  "kernelspec": {
   "display_name": "Python 3 (ipykernel)",
   "language": "python",
   "name": "python3"
  },
  "language_info": {
   "codemirror_mode": {
    "name": "ipython",
    "version": 3
   },
   "file_extension": ".py",
   "mimetype": "text/x-python",
   "name": "python",
   "nbconvert_exporter": "python",
   "pygments_lexer": "ipython3",
   "version": "3.7.13"
  }
 },
 "nbformat": 4,
 "nbformat_minor": 5
}
