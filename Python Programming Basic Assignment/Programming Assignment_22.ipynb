{
 "cells": [
  {
   "cell_type": "markdown",
   "id": "51140142",
   "metadata": {},
   "source": [
    "# Question 1"
   ]
  },
  {
   "cell_type": "code",
   "execution_count": 1,
   "id": "8f70ec4c",
   "metadata": {},
   "outputs": [
    {
     "name": "stdout",
     "output_type": "stream",
     "text": [
      "[3, 6, 9]\n"
     ]
    }
   ],
   "source": [
    "def solution(start,end,divisor):\n",
    "    res = []\n",
    "    for i in range(start,end+1):\n",
    "        if i%divisor == 0:\n",
    "            res.append(i)\n",
    "    print(res)\n",
    "solution(1,10,3)"
   ]
  },
  {
   "cell_type": "markdown",
   "id": "019bc01c",
   "metadata": {},
   "source": [
    "# Question 2"
   ]
  },
  {
   "cell_type": "code",
   "execution_count": 3,
   "id": "319ee2cf",
   "metadata": {},
   "outputs": [
    {
     "name": "stdout",
     "output_type": "stream",
     "text": [
      "True\n",
      "False\n"
     ]
    }
   ],
   "source": [
    "def solution(lst1,lst2):\n",
    "    if len(lst1) == len(lst2) and len(lst1) >= 2 and len(lst2) >= 2:\n",
    "        if (lst1[:-1] == lst2[1:]):\n",
    "            print(\"True\")\n",
    "        else:\n",
    "            print(\"False\")\n",
    "solution([1, 2], [5, 1])\n",
    "solution([1, 2, 3, 4, 5], [5, 5, 1, 2, 3])"
   ]
  },
  {
   "cell_type": "markdown",
   "id": "a41cdf8d",
   "metadata": {},
   "source": [
    "# Question 3"
   ]
  },
  {
   "cell_type": "code",
   "execution_count": 4,
   "id": "a69f9691",
   "metadata": {},
   "outputs": [
    {
     "name": "stdout",
     "output_type": "stream",
     "text": [
      "CJMPRR\n"
     ]
    }
   ],
   "source": [
    "def solution(lst):\n",
    "    res = []\n",
    "    for i in lst:\n",
    "        res.append(i[0])\n",
    "    output = ''.join(sorted(res))\n",
    "    print(output)\n",
    "solution([\"Phoebe\", \"Chandler\", \"Rachel\", \"Ross\", \"Monica\", \"Joey\"])\n"
   ]
  },
  {
   "cell_type": "markdown",
   "id": "191ae1f9",
   "metadata": {},
   "source": [
    "# Question 4"
   ]
  },
  {
   "cell_type": "code",
   "execution_count": 6,
   "id": "a61ecbe9",
   "metadata": {},
   "outputs": [
    {
     "name": "stdout",
     "output_type": "stream",
     "text": [
      "True\n"
     ]
    }
   ],
   "source": [
    "def solution(string):\n",
    "    lower_string = string.lower()\n",
    "    if len(lower_string) == len(set(lower_string)):\n",
    "        print(\"True\")\n",
    "    else:\n",
    "        print(\"False\")\n",
    "solution(\"Algorism\")"
   ]
  },
  {
   "cell_type": "markdown",
   "id": "88b49dc0",
   "metadata": {},
   "source": [
    "# Question 5"
   ]
  },
  {
   "cell_type": "code",
   "execution_count": 7,
   "id": "8f550344",
   "metadata": {},
   "outputs": [
    {
     "name": "stdout",
     "output_type": "stream",
     "text": [
      "True\n",
      "False\n"
     ]
    }
   ],
   "source": [
    "def solution(string):\n",
    "    sorted_string = \"\".join(sorted(string))\n",
    "    if string == sorted_string:\n",
    "        print(\"True\")\n",
    "    else:\n",
    "        print(\"False\")\n",
    "        \n",
    "solution(\"abcd\")\n",
    "solution(\"fkjgs\")"
   ]
  },
  {
   "cell_type": "code",
   "execution_count": null,
   "id": "ce8a01c2",
   "metadata": {},
   "outputs": [],
   "source": []
  }
 ],
 "metadata": {
  "kernelspec": {
   "display_name": "Python 3 (ipykernel)",
   "language": "python",
   "name": "python3"
  },
  "language_info": {
   "codemirror_mode": {
    "name": "ipython",
    "version": 3
   },
   "file_extension": ".py",
   "mimetype": "text/x-python",
   "name": "python",
   "nbconvert_exporter": "python",
   "pygments_lexer": "ipython3",
   "version": "3.7.13"
  }
 },
 "nbformat": 4,
 "nbformat_minor": 5
}
