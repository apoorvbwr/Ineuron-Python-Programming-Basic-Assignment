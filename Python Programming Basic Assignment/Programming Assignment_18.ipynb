{
 "cells": [
  {
   "cell_type": "markdown",
   "id": "3a292dd5",
   "metadata": {},
   "source": [
    "# Question 1"
   ]
  },
  {
   "cell_type": "code",
   "execution_count": 1,
   "id": "12582014",
   "metadata": {},
   "outputs": [
    {
     "name": "stdout",
     "output_type": "stream",
     "text": [
      "[1, 2]\n"
     ]
    }
   ],
   "source": [
    "def filter(l):\n",
    "    new_list = []\n",
    "    for i in l:\n",
    "        if type(i) ==  int:\n",
    "            new_list.append(i)\n",
    "    return new_list\n",
    "\n",
    "l = [1,2,'a','b']\n",
    "print(filter(l))"
   ]
  },
  {
   "cell_type": "markdown",
   "id": "3812c680",
   "metadata": {},
   "source": [
    "# Question 2"
   ]
  },
  {
   "cell_type": "code",
   "execution_count": 2,
   "id": "38de3499",
   "metadata": {},
   "outputs": [
    {
     "name": "stdout",
     "output_type": "stream",
     "text": [
      "hello world\n",
      "dlrow olleh\n"
     ]
    }
   ],
   "source": [
    "s = input()\n",
    "res = s[::-1]\n",
    "print(res)"
   ]
  },
  {
   "cell_type": "markdown",
   "id": "338e5260",
   "metadata": {},
   "source": [
    "# Question 4"
   ]
  },
  {
   "cell_type": "code",
   "execution_count": 3,
   "id": "350466f6",
   "metadata": {},
   "outputs": [
    {
     "data": {
      "text/plain": [
       "120"
      ]
     },
     "execution_count": 3,
     "metadata": {},
     "output_type": "execute_result"
    }
   ],
   "source": [
    "def factorial(n):\n",
    "    return 1 if (n==1 or n==0) else n * factorial(n - 1);\n",
    "\n",
    "num = 5;\n",
    "factorial(num)"
   ]
  },
  {
   "cell_type": "markdown",
   "id": "10cc4f5e",
   "metadata": {},
   "source": [
    "# Question 5"
   ]
  },
  {
   "cell_type": "code",
   "execution_count": 4,
   "id": "81f1e350",
   "metadata": {},
   "outputs": [
    {
     "name": "stdout",
     "output_type": "stream",
     "text": [
      "['3', '7', '9', '11', '5']\n"
     ]
    }
   ],
   "source": [
    "test_list = ['3', '5', '7', '9', '11']\n",
    "test_list.sort(key = '5'.__eq__)\n",
    "print(str(test_list))"
   ]
  },
  {
   "cell_type": "code",
   "execution_count": null,
   "id": "93432fa1",
   "metadata": {},
   "outputs": [],
   "source": []
  }
 ],
 "metadata": {
  "kernelspec": {
   "display_name": "Python 3 (ipykernel)",
   "language": "python",
   "name": "python3"
  },
  "language_info": {
   "codemirror_mode": {
    "name": "ipython",
    "version": 3
   },
   "file_extension": ".py",
   "mimetype": "text/x-python",
   "name": "python",
   "nbconvert_exporter": "python",
   "pygments_lexer": "ipython3",
   "version": "3.7.13"
  }
 },
 "nbformat": 4,
 "nbformat_minor": 5
}
