{
 "cells": [
  {
   "cell_type": "markdown",
   "id": "a76c92d4",
   "metadata": {},
   "source": [
    "# Question 1"
   ]
  },
  {
   "cell_type": "code",
   "execution_count": 1,
   "id": "56d5d63d",
   "metadata": {},
   "outputs": [
    {
     "name": "stdout",
     "output_type": "stream",
     "text": [
      "[1, 2, 3, 40, 5, 6, 7, 80, 9, 10, 11, 120, 13, 14, 15, 160, 17, 18, 19, 200, 21, 22, 23, 240, 25]\n"
     ]
    }
   ],
   "source": [
    "def solution(num):\n",
    "    result = []\n",
    "    for i in range(1,num+1):\n",
    "        if i%4==0:\n",
    "            result.append(i*10)\n",
    "        else:\n",
    "            result.append(i)\n",
    "    print(result)\n",
    "\n",
    "solution(25)"
   ]
  },
  {
   "cell_type": "markdown",
   "id": "1a3d6880",
   "metadata": {},
   "source": [
    "# Question 2"
   ]
  },
  {
   "cell_type": "code",
   "execution_count": 2,
   "id": "ba34d7b3",
   "metadata": {},
   "outputs": [
    {
     "name": "stdout",
     "output_type": "stream",
     "text": [
      "7\n"
     ]
    }
   ],
   "source": [
    "def unique(lst):\n",
    "    result = ''\n",
    "    for ele in set(lst):\n",
    "        if lst.count(ele) == 1:\n",
    "            result = ele\n",
    "    print(result)\n",
    "unique([3,3,3,3,7,3,3,3,3])"
   ]
  },
  {
   "cell_type": "markdown",
   "id": "045763cf",
   "metadata": {},
   "source": [
    "# Question 3"
   ]
  },
  {
   "cell_type": "code",
   "execution_count": 4,
   "id": "a4b28e97",
   "metadata": {},
   "outputs": [
    {
     "name": "stdout",
     "output_type": "stream",
     "text": [
      "Radius  380\n",
      "Perimeter  28\n"
     ]
    }
   ],
   "source": [
    "import math\n",
    "\n",
    "class Circle:\n",
    "    def __init__(self,radius):\n",
    "        self.radius = radius\n",
    "    def get_area(self):\n",
    "        print(\"Radius \", round(math.pi*self.radius*self.radius))\n",
    "    def get_perimeter(self):\n",
    "        print(\"Perimeter \", round(2*math.pi*self.radius))\n",
    "\n",
    "result = Circle(11)\n",
    "result.get_area()\n",
    "\n",
    "result = Circle(4.44)\n",
    "result.get_perimeter()"
   ]
  },
  {
   "cell_type": "markdown",
   "id": "d68976b3",
   "metadata": {},
   "source": [
    "# Question 4"
   ]
  },
  {
   "cell_type": "code",
   "execution_count": 5,
   "id": "0b85bac3",
   "metadata": {},
   "outputs": [
    {
     "name": "stdout",
     "output_type": "stream",
     "text": [
      "['Apple', 'Google', 'Microsoft']\n"
     ]
    }
   ],
   "source": [
    "def solution(lst):\n",
    "    print(sorted(lst,key=len))\n",
    "\n",
    "solution([\"Google\", \"Apple\", \"Microsoft\"])"
   ]
  },
  {
   "cell_type": "markdown",
   "id": "896ce7d7",
   "metadata": {},
   "source": [
    "# Question 5"
   ]
  },
  {
   "cell_type": "code",
   "execution_count": 6,
   "id": "b7106b33",
   "metadata": {},
   "outputs": [
    {
     "name": "stdout",
     "output_type": "stream",
     "text": [
      "True\n"
     ]
    }
   ],
   "source": [
    "def triplets(a,b,c):\n",
    "    if ((a**2+b**2) == (c**2)):\n",
    "        print(\"True\")\n",
    "    else:\n",
    "        print(\"False\")\n",
    "\n",
    "triplets(3,4,5)"
   ]
  },
  {
   "cell_type": "code",
   "execution_count": null,
   "id": "134412d0",
   "metadata": {},
   "outputs": [],
   "source": []
  }
 ],
 "metadata": {
  "kernelspec": {
   "display_name": "Python 3 (ipykernel)",
   "language": "python",
   "name": "python3"
  },
  "language_info": {
   "codemirror_mode": {
    "name": "ipython",
    "version": 3
   },
   "file_extension": ".py",
   "mimetype": "text/x-python",
   "name": "python",
   "nbconvert_exporter": "python",
   "pygments_lexer": "ipython3",
   "version": "3.7.13"
  }
 },
 "nbformat": 4,
 "nbformat_minor": 5
}
